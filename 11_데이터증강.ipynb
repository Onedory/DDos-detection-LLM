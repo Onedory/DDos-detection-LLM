{
  "cells": [
    {
      "cell_type": "markdown",
      "metadata": {
        "id": "view-in-github",
        "colab_type": "text"
      },
      "source": [
        "<a href=\"https://colab.research.google.com/github/Onedory/DDos-detection-LLM/blob/main/11_%EB%8D%B0%EC%9D%B4%ED%84%B0%EC%A6%9D%EA%B0%95.ipynb\" target=\"_parent\"><img src=\"https://colab.research.google.com/assets/colab-badge.svg\" alt=\"Open In Colab\"/></a>"
      ]
    },
    {
      "cell_type": "code",
      "execution_count": null,
      "metadata": {
        "colab": {
          "base_uri": "https://localhost:8080/"
        },
        "id": "tT3EanGpSLOp",
        "outputId": "47d52306-9bf7-430a-a883-c939a299bbaf"
      },
      "outputs": [
        {
          "output_type": "stream",
          "name": "stdout",
          "text": [
            "Requirement already satisfied: imbalanced-learn in /usr/local/lib/python3.10/dist-packages (0.12.4)\n",
            "Requirement already satisfied: numpy>=1.17.3 in /usr/local/lib/python3.10/dist-packages (from imbalanced-learn) (1.26.4)\n",
            "Requirement already satisfied: scipy>=1.5.0 in /usr/local/lib/python3.10/dist-packages (from imbalanced-learn) (1.13.1)\n",
            "Requirement already satisfied: scikit-learn>=1.0.2 in /usr/local/lib/python3.10/dist-packages (from imbalanced-learn) (1.5.2)\n",
            "Requirement already satisfied: joblib>=1.1.1 in /usr/local/lib/python3.10/dist-packages (from imbalanced-learn) (1.4.2)\n",
            "Requirement already satisfied: threadpoolctl>=2.0.0 in /usr/local/lib/python3.10/dist-packages (from imbalanced-learn) (3.5.0)\n"
          ]
        }
      ],
      "source": [
        "pip install imbalanced-learn\n"
      ]
    },
    {
      "cell_type": "code",
      "source": [
        "# 로짓 경로\n",
        "bert_logits_path = '/content/drive/MyDrive/LLM/logits-확률평균/bert_logits_val.pkl'\n",
        "roberta_logits_path = '/content/drive/MyDrive/LLM/logits-확률평균/roberta_logits_val.pkl'\n",
        "\n",
        "# 레이블 경로\n",
        "train_labels_path = '/content/drive/MyDrive/LLM/data/train_labels.pkl'\n",
        "\n",
        "import pickle\n",
        "# 데이터 로드 함수\n",
        "def load_data(path):\n",
        "    with open(path, 'rb') as f:\n",
        "        return pickle.load(f)\n",
        "\n",
        "# 로짓 및 레이블 데이터 불러오기\n",
        "bert_logits = load_data(bert_logits_path)\n",
        "roberta_logits = load_data(roberta_logits_path)\n",
        "train_labels = load_data(train_labels_path)\n",
        "\n",
        "# 데이터 크기 확인\n",
        "print(f\"BERT logits shape: {bert_logits.shape}\")\n",
        "print(f\"RoBERTa logits shape: {roberta_logits.shape}\")\n",
        "print(f\"Train labels length: {len(train_labels)}\")\n"
      ],
      "metadata": {
        "colab": {
          "base_uri": "https://localhost:8080/"
        },
        "id": "fwXYi72uhE3w",
        "outputId": "3dd4b862-ea73-4cde-f533-be3cda8ebc6e"
      },
      "execution_count": null,
      "outputs": [
        {
          "output_type": "stream",
          "name": "stdout",
          "text": [
            "BERT logits shape: (566149, 2)\n",
            "RoBERTa logits shape: (566149, 2)\n",
            "Train labels length: 2264594\n"
          ]
        }
      ]
    },
    {
      "cell_type": "code",
      "execution_count": null,
      "metadata": {
        "colab": {
          "base_uri": "https://localhost:8080/"
        },
        "id": "hrZU3Ld_VmTx",
        "outputId": "f9e8cdcc-a6e3-47d0-8039-c7c5c774b1cc"
      },
      "outputs": [
        {
          "name": "stdout",
          "output_type": "stream",
          "text": [
            "bert_logits shape: (566149, 2)\n",
            "train_labels length: 2264594\n"
          ]
        }
      ],
      "source": [
        "# 로짓과 레이블 크기 출력\n",
        "print(f\"bert_logits shape: {bert_logits.shape}\")\n",
        "print(f\"train_labels length: {len(train_labels)}\")\n"
      ]
    },
    {
      "cell_type": "code",
      "execution_count": null,
      "metadata": {
        "colab": {
          "base_uri": "https://localhost:8080/"
        },
        "id": "JZf2rQGYSTPf",
        "outputId": "92a9840e-ba11-474f-aecd-0b324e99ff79"
      },
      "outputs": [
        {
          "output_type": "stream",
          "name": "stdout",
          "text": [
            "SMOTE Class Distribution: Counter({0: 364050, 1: 364050})\n",
            "Borderline-SMOTE Class Distribution: Counter({0: 364050, 1: 364050})\n",
            "\n",
            "SMOTE Performance:\n",
            "Precision: 0.6846548664459403\n",
            "Recall: 0.6473107833613\n",
            "F1-score: 0.6641971073888064\n",
            "Confusion Matrix:\n",
            "[[67622 23439]\n",
            " [16496  5673]]\n",
            "\n",
            "Borderline-SMOTE Performance:\n",
            "Precision: 0.6856127501669647\n",
            "Recall: 0.6542877329329683\n",
            "F1-score: 0.6686731107372504\n",
            "Confusion Matrix:\n",
            "[[68570 22491]\n",
            " [16654  5515]]\n"
          ]
        }
      ],
      "source": [
        "from imblearn.over_sampling import SMOTE, BorderlineSMOTE\n",
        "from sklearn.ensemble import RandomForestClassifier\n",
        "from sklearn.model_selection import train_test_split\n",
        "from sklearn.metrics import precision_score, recall_score, f1_score, confusion_matrix\n",
        "from collections import Counter\n",
        "\n",
        "# 데이터 준비\n",
        "X = np.hstack([bert_logits, roberta_logits])\n",
        "y = np.array(train_labels)\n",
        "\n",
        "# 훈련/검증 데이터 나누기\n",
        "X_train, X_valid, y_train, y_valid = train_test_split(X, y, test_size=0.2, random_state=42)\n",
        "\n",
        "# 기존 SMOTE\n",
        "smote = SMOTE(random_state=42)\n",
        "X_resampled_smote, y_resampled_smote = smote.fit_resample(X_train, y_train)\n",
        "print(\"SMOTE Class Distribution:\", Counter(y_resampled_smote))\n",
        "\n",
        "# Borderline-SMOTE\n",
        "borderline_smote = BorderlineSMOTE(random_state=42)\n",
        "X_resampled_borderline, y_resampled_borderline = borderline_smote.fit_resample(X_train, y_train)\n",
        "print(\"Borderline-SMOTE Class Distribution:\", Counter(y_resampled_borderline))\n",
        "\n",
        "# 모델 학습 및 평가\n",
        "rf_model = RandomForestClassifier(n_estimators=100, random_state=42)\n",
        "\n",
        "# 기존 SMOTE 모델\n",
        "rf_model.fit(X_resampled_smote, y_resampled_smote)\n",
        "y_pred_smote = rf_model.predict(X_valid)\n",
        "print(\"\\nSMOTE Performance:\")\n",
        "print(f\"Precision: {precision_score(y_valid, y_pred_smote, average='weighted')}\")\n",
        "print(f\"Recall: {recall_score(y_valid, y_pred_smote, average='weighted')}\")\n",
        "print(f\"F1-score: {f1_score(y_valid, y_pred_smote, average='weighted')}\")\n",
        "print(f\"Confusion Matrix:\\n{confusion_matrix(y_valid, y_pred_smote)}\")\n",
        "\n",
        "# Borderline-SMOTE 모델\n",
        "rf_model.fit(X_resampled_borderline, y_resampled_borderline)\n",
        "y_pred_borderline = rf_model.predict(X_valid)\n",
        "print(\"\\nBorderline-SMOTE Performance:\")\n",
        "print(f\"Precision: {precision_score(y_valid, y_pred_borderline, average='weighted')}\")\n",
        "print(f\"Recall: {recall_score(y_valid, y_pred_borderline, average='weighted')}\")\n",
        "print(f\"F1-score: {f1_score(y_valid, y_pred_borderline, average='weighted')}\")\n",
        "print(f\"Confusion Matrix:\\n{confusion_matrix(y_valid, y_pred_borderline)}\")\n"
      ]
    },
    {
      "cell_type": "code",
      "execution_count": null,
      "metadata": {
        "colab": {
          "background_save": true
        },
        "id": "thhw2ONIac_7",
        "outputId": "43d37388-8444-4cb4-f115-e9c2769c277d"
      },
      "outputs": [
        {
          "name": "stdout",
          "output_type": "stream",
          "text": [
            "Best Parameters: {'smote__sampling_strategy': 0.5, 'smote__k_neighbors': 3}\n",
            "Best Accuracy: 0.7523685260118746\n"
          ]
        }
      ],
      "source": [
        "from imblearn.over_sampling import SMOTE\n",
        "from sklearn.model_selection import RandomizedSearchCV\n",
        "from sklearn.ensemble import RandomForestClassifier\n",
        "from sklearn.metrics import make_scorer, accuracy_score\n",
        "import numpy as np\n",
        "\n",
        "# SMOTE와 Random Forest 모델을 결합하는 함수 정의\n",
        "def smote_rf_pipeline(X_train, y_train):\n",
        "    smote = SMOTE(random_state=42)\n",
        "    rf_model = RandomForestClassifier(n_estimators=100, random_state=42)\n",
        "\n",
        "    # SMOTE의 파라미터 설정\n",
        "    smote_params = {\n",
        "        'smote__k_neighbors': [3, 5, 7, 10, 15],\n",
        "        'smote__sampling_strategy': ['auto', 0.5, 0.75, 1.0],\n",
        "    }\n",
        "\n",
        "    # Pipeline을 사용하여 SMOTE와 모델을 결합\n",
        "    from imblearn.pipeline import Pipeline\n",
        "    pipeline = Pipeline([\n",
        "        ('smote', smote),\n",
        "        ('rf', rf_model)\n",
        "    ])\n",
        "\n",
        "    # 평가 함수 정의\n",
        "    scorer = make_scorer(accuracy_score)\n",
        "\n",
        "    # RandomizedSearchCV를 사용하여 하이퍼파라미터 최적화\n",
        "    random_search = RandomizedSearchCV(estimator=pipeline, param_distributions=smote_params, scoring=scorer, n_iter=10, cv=5, n_jobs=-1, random_state=42)\n",
        "\n",
        "    random_search.fit(X_train, y_train)\n",
        "\n",
        "    return random_search.best_params_, random_search.best_score_\n",
        "\n",
        "# 최적 파라미터 찾기\n",
        "best_params, best_score = smote_rf_pipeline(X_train, y_train)\n",
        "\n",
        "print(f\"Best Parameters: {best_params}\")\n",
        "print(f\"Best Accuracy: {best_score}\")\n"
      ]
    },
    {
      "cell_type": "markdown",
      "source": [
        "SMOTE 데이터증강"
      ],
      "metadata": {
        "id": "wWt9ECwgt3J5"
      }
    },
    {
      "cell_type": "code",
      "source": [
        "from imblearn.over_sampling import SMOTE\n",
        "from sklearn.metrics import accuracy_score, precision_score, recall_score, f1_score, confusion_matrix\n",
        "from collections import Counter\n",
        "import joblib\n",
        "\n",
        "# 모델 불러오기\n",
        "model_path = '/content/drive/MyDrive/LLM/random_forest_model.joblib'\n",
        "rf_model = joblib.load(model_path)\n",
        "\n",
        "# SMOTE 데이터 증강\n",
        "def smote_augmentation(X_train, y_train, sampling_strategy=0.5, k_neighbors=5):\n",
        "    smote = SMOTE(random_state=42, sampling_strategy=sampling_strategy, k_neighbors=k_neighbors)\n",
        "    X_resampled, y_resampled = smote.fit_resample(X_train, y_train)\n",
        "    print(f\"Before SMOTE: {Counter(y_train)}\")\n",
        "    print(f\"After SMOTE: {Counter(y_resampled)}\")\n",
        "    return X_resampled, y_resampled\n",
        "\n",
        "# SMOTE를 활용한 학습 결과 출력\n",
        "def train_and_evaluate_with_smote(X_train, y_train, X_valid, y_valid, sampling_strategy=0.5, k_neighbors=5):\n",
        "    # 데이터 증강\n",
        "    X_resampled, y_resampled = smote_augmentation(X_train, y_train, sampling_strategy, k_neighbors)\n",
        "\n",
        "\n",
        "    rf_model.fit(X_resampled, y_resampled)\n",
        "\n",
        "    # 검증 데이터로 성능 평가\n",
        "    y_pred = rf_model.predict(X_valid)\n",
        "\n",
        "    # 성능 평가\n",
        "    accuracy = accuracy_score(y_valid, y_pred)\n",
        "    precision = precision_score(y_valid, y_pred, average='weighted')\n",
        "    recall = recall_score(y_valid, y_pred, average='weighted')\n",
        "    f1 = f1_score(y_valid, y_pred, average='weighted')\n",
        "    cm = confusion_matrix(y_valid, y_pred)\n",
        "\n",
        "    # 결과 출력\n",
        "    print(\"\\nSMOTE Results (with training):\")\n",
        "    print(f\"Accuracy: {accuracy}\")\n",
        "    print(f\"Precision: {precision}\")\n",
        "    print(f\"Recall: {recall}\")\n",
        "    print(f\"F1-score: {f1}\")\n",
        "    print(f\"Confusion Matrix:\\n{cm}\")\n",
        "\n",
        "# 예시 실행\n",
        "train_and_evaluate_with_smote(X_train, y_train, X_valid, y_valid, sampling_strategy=0.5, k_neighbors=5)\n"
      ],
      "metadata": {
        "colab": {
          "base_uri": "https://localhost:8080/"
        },
        "id": "oBsF0EtpsGej",
        "outputId": "e485ba49-dd7e-42d1-db06-cdfab558cb3a"
      },
      "execution_count": null,
      "outputs": [
        {
          "output_type": "stream",
          "name": "stdout",
          "text": [
            "Before SMOTE: Counter({0: 364050, 1: 88869})\n",
            "After SMOTE: Counter({0: 364050, 1: 182025})\n",
            "\n",
            "SMOTE Results (with training):\n",
            "Accuracy: 0.7508522476375519\n",
            "Precision: 0.6831993168037969\n",
            "Recall: 0.7508522476375519\n",
            "F1-score: 0.7101328724812705\n",
            "Confusion Matrix:\n",
            "[[83186  7875]\n",
            " [20336  1833]]\n"
          ]
        }
      ]
    },
    {
      "cell_type": "markdown",
      "source": [
        "Borderline-SMOTE"
      ],
      "metadata": {
        "id": "l5qspOhUt6rO"
      }
    },
    {
      "cell_type": "code",
      "source": [
        "from imblearn.over_sampling import BorderlineSMOTE\n",
        "from sklearn.metrics import accuracy_score, precision_score, recall_score, f1_score, confusion_matrix\n",
        "from collections import Counter\n",
        "import joblib\n",
        "from sklearn.ensemble import RandomForestClassifier\n",
        "\n",
        "# 모델 불러오기\n",
        "model_path = '/content/drive/MyDrive/LLM/random_forest_model.joblib'\n",
        "rf_model = joblib.load(model_path)\n",
        "\n",
        "# Borderline-SMOTE 데이터 증강\n",
        "def borderline_smote_augmentation(X_train, y_train, sampling_strategy=0.5, k_neighbors=5):\n",
        "    smote = BorderlineSMOTE(random_state=42, sampling_strategy=sampling_strategy, k_neighbors=k_neighbors)\n",
        "    X_resampled, y_resampled = smote.fit_resample(X_train, y_train)\n",
        "    print(f\"Before Borderline-SMOTE: {Counter(y_train)}\")\n",
        "    print(f\"After Borderline-SMOTE: {Counter(y_resampled)}\")\n",
        "    return X_resampled, y_resampled\n",
        "\n",
        "# Borderline-SMOTE를 활용한 학습 결과 출력\n",
        "def train_and_evaluate_with_borderline_smote(X_train, y_train, X_valid, y_valid, sampling_strategy=0.5, k_neighbors=5):\n",
        "    # 데이터 증강\n",
        "    X_resampled, y_resampled = borderline_smote_augmentation(X_train, y_train, sampling_strategy, k_neighbors)\n",
        "\n",
        "    # 증강된 데이터로 모델 재학습\n",
        "    rf_model.fit(X_resampled, y_resampled)\n",
        "\n",
        "    # 검증 데이터로 성능 평가\n",
        "    y_pred = rf_model.predict(X_valid)\n",
        "\n",
        "    # 성능 평가\n",
        "    accuracy = accuracy_score(y_valid, y_pred)\n",
        "    precision = precision_score(y_valid, y_pred, average='weighted')\n",
        "    recall = recall_score(y_valid, y_pred, average='weighted')\n",
        "    f1 = f1_score(y_valid, y_pred, average='weighted')\n",
        "    cm = confusion_matrix(y_valid, y_pred)\n",
        "\n",
        "    # 결과 출력\n",
        "    print(\"\\nBorderline-SMOTE Results (with training):\")\n",
        "    print(f\"Accuracy: {accuracy}\")\n",
        "    print(f\"Precision: {precision}\")\n",
        "    print(f\"Recall: {recall}\")\n",
        "    print(f\"F1-score: {f1}\")\n",
        "    print(f\"Confusion Matrix:\\n{cm}\")\n",
        "\n",
        "# 예시 실행\n",
        "train_and_evaluate_with_borderline_smote(X_train, y_train, X_valid, y_valid, sampling_strategy=0.5, k_neighbors=5)\n"
      ],
      "metadata": {
        "colab": {
          "base_uri": "https://localhost:8080/"
        },
        "id": "PWfgUDaJt8sQ",
        "outputId": "4c3faf5d-3f4d-4e1e-f7fb-5da9b838722d"
      },
      "execution_count": null,
      "outputs": [
        {
          "output_type": "stream",
          "name": "stdout",
          "text": [
            "Before Borderline-SMOTE: Counter({0: 364050, 1: 88869})\n",
            "After Borderline-SMOTE: Counter({0: 364050, 1: 182025})\n",
            "\n",
            "Borderline-SMOTE Results (with training):\n",
            "Accuracy: 0.7506491212576173\n",
            "Precision: 0.683729033987498\n",
            "Recall: 0.7506491212576173\n",
            "F1-score: 0.7103740443247817\n",
            "Confusion Matrix:\n",
            "[[83125  7936]\n",
            " [20298  1871]]\n"
          ]
        }
      ]
    },
    {
      "cell_type": "markdown",
      "source": [
        " ADASYN (Adaptive Synthetic Sampling Approach for Imbalanced Learning)"
      ],
      "metadata": {
        "id": "IXWfL8nNuBHm"
      }
    },
    {
      "cell_type": "code",
      "source": [
        "from imblearn.over_sampling import ADASYN\n",
        "\n",
        "# 모델 불러오기\n",
        "model_path = '/content/drive/MyDrive/LLM/random_forest_model.joblib'\n",
        "rf_model = joblib.load(model_path)\n",
        "\n",
        "def adasyn_augmentation(X_train, y_train, sampling_strategy=0.5, n_neighbors=5):\n",
        "    adasyn = ADASYN(random_state=42, sampling_strategy=sampling_strategy, n_neighbors=n_neighbors)\n",
        "    X_resampled, y_resampled = adasyn.fit_resample(X_train, y_train)\n",
        "    print(f\"Before ADASYN: {Counter(y_train)}\")\n",
        "    print(f\"After ADASYN: {Counter(y_resampled)}\")\n",
        "    return X_resampled, y_resampled\n",
        "\n",
        "def train_and_evaluate_with_adasyn(X_train, y_train, X_valid, y_valid, sampling_strategy=0.5, n_neighbors=5):\n",
        "    X_resampled, y_resampled = adasyn_augmentation(X_train, y_train, sampling_strategy, n_neighbors)\n",
        "\n",
        "    # 모델 학습\n",
        "    rf_model.fit(X_resampled, y_resampled)\n",
        "\n",
        "    # 성능 평가\n",
        "    y_pred = rf_model.predict(X_valid)\n",
        "\n",
        "    accuracy = accuracy_score(y_valid, y_pred)\n",
        "    precision = precision_score(y_valid, y_pred, average='weighted')\n",
        "    recall = recall_score(y_valid, y_pred, average='weighted')\n",
        "    f1 = f1_score(y_valid, y_pred, average='weighted')\n",
        "    cm = confusion_matrix(y_valid, y_pred)\n",
        "\n",
        "    # 결과 출력\n",
        "    print(\"\\nADASYN Results (with training):\")\n",
        "    print(f\"Accuracy: {accuracy}\")\n",
        "    print(f\"Precision: {precision}\")\n",
        "    print(f\"Recall: {recall}\")\n",
        "    print(f\"F1-score: {f1}\")\n",
        "    print(f\"Confusion Matrix:\\n{cm}\")\n",
        "\n",
        "# 예시 실행\n",
        "train_and_evaluate_with_adasyn(X_train, y_train, X_valid, y_valid, sampling_strategy=0.5, n_neighbors=5)\n"
      ],
      "metadata": {
        "colab": {
          "base_uri": "https://localhost:8080/"
        },
        "id": "AdAeRL2fxIs3",
        "outputId": "9612a68d-46cc-4d7f-bedb-c9f3d372671a"
      },
      "execution_count": null,
      "outputs": [
        {
          "output_type": "stream",
          "name": "stdout",
          "text": [
            "Before ADASYN: Counter({0: 364050, 1: 88869})\n",
            "After ADASYN: Counter({0: 364050, 1: 177120})\n",
            "\n",
            "ADASYN Results (with training):\n",
            "Accuracy: 0.7527333745473814\n",
            "Precision: 0.683565989189825\n",
            "Recall: 0.7527333745473814\n",
            "F1-score: 0.7108511102904942\n",
            "Confusion Matrix:\n",
            "[[83444  7617]\n",
            " [20381  1788]]\n"
          ]
        }
      ]
    },
    {
      "cell_type": "markdown",
      "source": [
        "3. SMOTEENN (SMOTE + Edited Nearest Neighbors)"
      ],
      "metadata": {
        "id": "2pFD_L3QFl_y"
      }
    },
    {
      "cell_type": "code",
      "source": [
        "from imblearn.combine import SMOTEENN\n",
        "\n",
        "\n",
        "# 모델 불러오기\n",
        "model_path = '/content/drive/MyDrive/LLM/random_forest_model.joblib'\n",
        "rf_model = joblib.load(model_path)\n",
        "def smoteenn_augmentation(X_train, y_train, sampling_strategy=0.5):\n",
        "    smoteenn = SMOTEENN(random_state=42, sampling_strategy=sampling_strategy)\n",
        "    X_resampled, y_resampled = smoteenn.fit_resample(X_train, y_train)\n",
        "    print(f\"Before SMOTEENN: {Counter(y_train)}\")\n",
        "    print(f\"After SMOTEENN: {Counter(y_resampled)}\")\n",
        "    return X_resampled, y_resampled\n",
        "\n",
        "def train_and_evaluate_with_smoteenn(X_train, y_train, X_valid, y_valid, sampling_strategy=0.5):\n",
        "    X_resampled, y_resampled = smoteenn_augmentation(X_train, y_train, sampling_strategy)\n",
        "\n",
        "    # 모델 학습\n",
        "    rf_model.fit(X_resampled, y_resampled)\n",
        "\n",
        "    # 성능 평가\n",
        "    y_pred = rf_model.predict(X_valid)\n",
        "\n",
        "    accuracy = accuracy_score(y_valid, y_pred)\n",
        "    precision = precision_score(y_valid, y_pred, average='weighted')\n",
        "    recall = recall_score(y_valid, y_pred, average='weighted')\n",
        "    f1 = f1_score(y_valid, y_pred, average='weighted')\n",
        "    cm = confusion_matrix(y_valid, y_pred)\n",
        "\n",
        "    # 결과 출력\n",
        "    print(\"\\nSMOTEENN Results (with training):\")\n",
        "    print(f\"Accuracy: {accuracy}\")\n",
        "    print(f\"Precision: {precision}\")\n",
        "    print(f\"Recall: {recall}\")\n",
        "    print(f\"F1-score: {f1}\")\n",
        "    print(f\"Confusion Matrix:\\n{cm}\")\n",
        "\n",
        "# 예시 실행\n",
        "train_and_evaluate_with_smoteenn(X_train, y_train, X_valid, y_valid, sampling_strategy=0.5)\n"
      ],
      "metadata": {
        "colab": {
          "base_uri": "https://localhost:8080/"
        },
        "id": "RmLD1L6-FnsU",
        "outputId": "37730f75-bb3a-4fc5-8f44-4d3c46e6d201"
      },
      "execution_count": null,
      "outputs": [
        {
          "output_type": "stream",
          "name": "stdout",
          "text": [
            "Before SMOTEENN: Counter({0: 364050, 1: 88869})\n",
            "After SMOTEENN: Counter({0: 174111, 1: 50053})\n",
            "\n",
            "SMOTEENN Results (with training):\n",
            "Accuracy: 0.7708469486885101\n",
            "Precision: 0.6862232754913581\n",
            "Recall: 0.7708469486885101\n",
            "F1-score: 0.71619819319471\n",
            "Confusion Matrix:\n",
            "[[86019  5042]\n",
            " [20905  1264]]\n"
          ]
        }
      ]
    },
    {
      "cell_type": "markdown",
      "source": [
        "4. SMOTETomek (SMOTE + Tomek Links)"
      ],
      "metadata": {
        "id": "JhBQZHgKFtni"
      }
    },
    {
      "cell_type": "code",
      "source": [
        "from imblearn.combine import SMOTETomek\n",
        "\n",
        "# 모델 불러오기\n",
        "model_path = '/content/drive/MyDrive/LLM/random_forest_model.joblib'\n",
        "rf_model = joblib.load(model_path)\n",
        "\n",
        "\n",
        "def smotetomek_augmentation(X_train, y_train, sampling_strategy=0.5):\n",
        "    smotetomek = SMOTETomek(random_state=42, sampling_strategy=sampling_strategy)\n",
        "    X_resampled, y_resampled = smotetomek.fit_resample(X_train, y_train)\n",
        "    print(f\"Before SMOTETomek: {Counter(y_train)}\")\n",
        "    print(f\"After SMOTETomek: {Counter(y_resampled)}\")\n",
        "    return X_resampled, y_resampled\n",
        "\n",
        "def train_and_evaluate_with_smotetomek(X_train, y_train, X_valid, y_valid, sampling_strategy=0.5):\n",
        "    X_resampled, y_resampled = smotetomek_augmentation(X_train, y_train, sampling_strategy)\n",
        "\n",
        "    # 모델 학습\n",
        "    rf_model.fit(X_resampled, y_resampled)\n",
        "\n",
        "    # 성능 평가\n",
        "    y_pred = rf_model.predict(X_valid)\n",
        "\n",
        "    accuracy = accuracy_score(y_valid, y_pred)\n",
        "    precision = precision_score(y_valid, y_pred, average='weighted')\n",
        "    recall = recall_score(y_valid, y_pred, average='weighted')\n",
        "    f1 = f1_score(y_valid, y_pred, average='weighted')\n",
        "    cm = confusion_matrix(y_valid, y_pred)\n",
        "\n",
        "    # 결과 출력\n",
        "    print(\"\\nSMOTETomek Results (with training):\")\n",
        "    print(f\"Accuracy: {accuracy}\")\n",
        "    print(f\"Precision: {precision}\")\n",
        "    print(f\"Recall: {recall}\")\n",
        "    print(f\"F1-score: {f1}\")\n",
        "    print(f\"Confusion Matrix:\\n{cm}\")\n",
        "\n",
        "# 예시 실행\n",
        "train_and_evaluate_with_smotetomek(X_train, y_train, X_valid, y_valid, sampling_strategy=0.5)\n"
      ],
      "metadata": {
        "colab": {
          "base_uri": "https://localhost:8080/"
        },
        "id": "78WnGI68FtH8",
        "outputId": "bbf3483c-8c80-495f-c476-184f0a8c10ef"
      },
      "execution_count": null,
      "outputs": [
        {
          "output_type": "stream",
          "name": "stdout",
          "text": [
            "Before SMOTETomek: Counter({0: 364050, 1: 88869})\n",
            "After SMOTETomek: Counter({0: 343568, 1: 161543})\n",
            "\n",
            "SMOTETomek Results (with training):\n",
            "Accuracy: 0.7556919544290382\n",
            "Precision: 0.6832741551786828\n",
            "Recall: 0.7556919544290382\n",
            "F1-score: 0.7114648187972993\n",
            "Confusion Matrix:\n",
            "[[83899  7162]\n",
            " [20501  1668]]\n"
          ]
        }
      ]
    },
    {
      "cell_type": "markdown",
      "source": [
        "5. Random Under-sampling"
      ],
      "metadata": {
        "id": "40WedX1SF0f8"
      }
    },
    {
      "cell_type": "code",
      "source": [
        "from imblearn.under_sampling import RandomUnderSampler\n",
        "\n",
        "\n",
        "# 모델 불러오기\n",
        "model_path = '/content/drive/MyDrive/LLM/random_forest_model.joblib'\n",
        "rf_model = joblib.load(model_path)\n",
        "\n",
        "def under_sampling_augmentation(X_train, y_train, sampling_strategy=0.5):\n",
        "    under_sampler = RandomUnderSampler(random_state=42, sampling_strategy=sampling_strategy)\n",
        "    X_resampled, y_resampled = under_sampler.fit_resample(X_train, y_train)\n",
        "    print(f\"Before Under-sampling: {Counter(y_train)}\")\n",
        "    print(f\"After Under-sampling: {Counter(y_resampled)}\")\n",
        "    return X_resampled, y_resampled\n",
        "\n",
        "def train_and_evaluate_with_under_sampling(X_train, y_train, X_valid, y_valid, sampling_strategy=0.5):\n",
        "    X_resampled, y_resampled = under_sampling_augmentation(X_train, y_train, sampling_strategy)\n",
        "\n",
        "    # 모델 학습\n",
        "    rf_model.fit(X_resampled, y_resampled)\n",
        "\n",
        "    # 성능 평가\n",
        "    y_pred = rf_model.predict(X_valid)\n",
        "\n",
        "    accuracy = accuracy_score(y_valid, y_pred)\n",
        "    precision = precision_score(y_valid, y_pred, average='weighted')\n",
        "    recall = recall_score(y_valid, y_pred, average='weighted')\n",
        "    f1 = f1_score(y_valid, y_pred, average='weighted')\n",
        "    cm = confusion_matrix(y_valid, y_pred)\n",
        "\n",
        "    # 결과 출력\n",
        "    print(\"\\nRandom Under-sampling Results (with training):\")\n",
        "    print(f\"Accuracy: {accuracy}\")\n",
        "    print(f\"Precision: {precision}\")\n",
        "    print(f\"Recall: {recall}\")\n",
        "    print(f\"F1-score: {f1}\")\n",
        "    print(f\"Confusion Matrix:\\n{cm}\")\n",
        "\n",
        "# 예시 실행\n",
        "train_and_evaluate_with_under_sampling(X_train, y_train, X_valid, y_valid, sampling_strategy=0.5)\n"
      ],
      "metadata": {
        "colab": {
          "base_uri": "https://localhost:8080/"
        },
        "id": "xStJ_WXOF3Oo",
        "outputId": "8c098d27-619e-48eb-d6f8-3a4f67d55eef"
      },
      "execution_count": null,
      "outputs": [
        {
          "output_type": "stream",
          "name": "stdout",
          "text": [
            "Before Under-sampling: Counter({0: 364050, 1: 88869})\n",
            "After Under-sampling: Counter({0: 177738, 1: 88869})\n",
            "\n",
            "Random Under-sampling Results (with training):\n",
            "Accuracy: 0.7353793164355736\n",
            "Precision: 0.6851181955062448\n",
            "Recall: 0.7353793164355736\n",
            "F1-score: 0.7064617587973262\n",
            "Confusion Matrix:\n",
            "[[80757 10304]\n",
            " [19659  2510]]\n"
          ]
        }
      ]
    },
    {
      "cell_type": "markdown",
      "source": [
        "6. NearMiss (Under-sampling method)"
      ],
      "metadata": {
        "id": "MucAIFPSGKx_"
      }
    },
    {
      "cell_type": "code",
      "source": [
        "from imblearn.under_sampling import NearMiss\n",
        "\n",
        "\n",
        "# 모델 불러오기\n",
        "model_path = '/content/drive/MyDrive/LLM/random_forest_model.joblib'\n",
        "rf_model = joblib.load(model_path)\n",
        "\n",
        "def nearmiss_augmentation(X_train, y_train, sampling_strategy=0.5):\n",
        "    nearmiss = NearMiss(sampling_strategy=sampling_strategy)\n",
        "    X_resampled, y_resampled = nearmiss.fit_resample(X_train, y_train)\n",
        "    print(f\"Before NearMiss: {Counter(y_train)}\")\n",
        "    print(f\"After NearMiss: {Counter(y_resampled)}\")\n",
        "    return X_resampled, y_resampled\n",
        "\n",
        "def train_and_evaluate_with_nearmiss(X_train, y_train, X_valid, y_valid, sampling_strategy=0.5):\n",
        "    X_resampled, y_resampled = nearmiss_augmentation(X_train, y_train, sampling_strategy)\n",
        "\n",
        "    # 모델 학습\n",
        "    rf_model.fit(X_resampled, y_resampled)\n",
        "\n",
        "    # 성능 평가\n",
        "    y_pred = rf_model.predict(X_valid)\n",
        "\n",
        "    accuracy = accuracy_score(y_valid, y_pred)\n",
        "    precision = precision_score(y_valid, y_pred, average='weighted')\n",
        "    recall = recall_score(y_valid, y_pred, average='weighted')\n",
        "    f1 = f1_score(y_valid, y_pred, average='weighted')\n",
        "    cm = confusion_matrix(y_valid, y_pred)\n",
        "\n",
        "    # 결과 출력\n",
        "    print(\"\\nNearMiss Results (with training):\")\n",
        "    print(f\"Accuracy: {accuracy}\")\n",
        "    print(f\"Precision: {precision}\")\n",
        "    print(f\"Recall: {recall}\")\n",
        "    print(f\"F1-score: {f1}\")\n",
        "    print(f\"Confusion Matrix:\\n{cm}\")\n",
        "\n",
        "# 예시 실행\n",
        "train_and_evaluate_with_nearmiss(X_train, y_train, X_valid, y_valid, sampling_strategy=0.5)\n"
      ],
      "metadata": {
        "colab": {
          "base_uri": "https://localhost:8080/"
        },
        "id": "RuQDI2ZcGL4W",
        "outputId": "a67e9819-1a40-48de-a49a-137349753548"
      },
      "execution_count": null,
      "outputs": [
        {
          "output_type": "stream",
          "name": "stdout",
          "text": [
            "Before NearMiss: Counter({0: 364050, 1: 88869})\n",
            "After NearMiss: Counter({0: 177738, 1: 88869})\n",
            "\n",
            "NearMiss Results (with training):\n",
            "Accuracy: 0.5055197385851806\n",
            "Precision: 0.6849909955628277\n",
            "Recall: 0.5055197385851806\n",
            "F1-score: 0.5562208313163571\n",
            "Confusion Matrix:\n",
            "[[46366 44695]\n",
            " [11295 10874]]\n"
          ]
        }
      ]
    }
  ],
  "metadata": {
    "colab": {
      "provenance": [],
      "machine_shape": "hm",
      "gpuType": "T4",
      "mount_file_id": "1fbOywrvC5JVU3wzy0TAs7uZDy-2qYzOF",
      "authorship_tag": "ABX9TyMJ/YQp2huBUAco7muVrEx7",
      "include_colab_link": true
    },
    "kernelspec": {
      "display_name": "Python 3",
      "name": "python3"
    },
    "language_info": {
      "name": "python"
    },
    "accelerator": "GPU"
  },
  "nbformat": 4,
  "nbformat_minor": 0
}